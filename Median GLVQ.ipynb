{
 "cells": [
  {
   "cell_type": "markdown",
   "metadata": {},
   "source": [
    "# Can Be used for other Datasets."
   ]
  },
  {
   "cell_type": "code",
   "execution_count": 1,
   "metadata": {
    "ExecuteTime": {
     "end_time": "2021-02-18T21:17:20.324815Z",
     "start_time": "2021-02-18T21:17:19.785647Z"
    }
   },
   "outputs": [],
   "source": [
    "import numpy as np\n",
    "from sklearn.datasets import load_iris\n",
    "from sklearn.model_selection import train_test_split\n",
    "from proto_dist_ml.mglvq import MGLVQ"
   ]
  },
  {
   "cell_type": "code",
   "execution_count": 3,
   "metadata": {
    "ExecuteTime": {
     "end_time": "2021-02-18T21:17:38.070413Z",
     "start_time": "2021-02-18T21:17:38.064965Z"
    }
   },
   "outputs": [],
   "source": [
    "iris = load_iris()"
   ]
  },
  {
   "cell_type": "code",
   "execution_count": 4,
   "metadata": {
    "ExecuteTime": {
     "end_time": "2021-02-18T21:17:39.196011Z",
     "start_time": "2021-02-18T21:17:39.191639Z"
    }
   },
   "outputs": [],
   "source": [
    "input_data = load_iris().data\n",
    "data_label = load_iris().target\n",
    "prototype_per_class = 3\n",
    "epochs = 2"
   ]
  },
  {
   "cell_type": "code",
   "execution_count": 5,
   "metadata": {
    "ExecuteTime": {
     "end_time": "2021-02-18T21:17:39.605290Z",
     "start_time": "2021-02-18T21:17:39.599617Z"
    }
   },
   "outputs": [],
   "source": [
    "X_train, X_test, y_train, y_test = train_test_split(input_data,\n",
    "                                                    data_label,\n",
    "                                                    test_size=0.3,\n",
    "                                                    random_state=42)"
   ]
  },
  {
   "cell_type": "code",
   "execution_count": 6,
   "metadata": {
    "ExecuteTime": {
     "end_time": "2021-02-18T21:17:40.009365Z",
     "start_time": "2021-02-18T21:17:40.007264Z"
    }
   },
   "outputs": [],
   "source": [
    "clf = MGLVQ(K = prototype_per_class, T = epochs)"
   ]
  },
  {
   "cell_type": "code",
   "execution_count": 10,
   "metadata": {
    "ExecuteTime": {
     "end_time": "2021-02-18T21:18:21.106739Z",
     "start_time": "2021-02-18T21:18:19.810658Z"
    }
   },
   "outputs": [],
   "source": [
    "# levenshtein distance as it is non-eucledian distance measure.\n",
    "def levenshtein(x, y):\n",
    "    m = len(x)\n",
    "    n = len(y)\n",
    "    Delta = np.zeros((m+1, n+1), dtype=int)\n",
    "    for i in range(m):\n",
    "        Delta[i+1, 0] = Delta[i, 0] + 1\n",
    "    for j in range(n):\n",
    "        Delta[0, j+1] = Delta[0, j] + 1\n",
    "    for i in range(m):\n",
    "        for j in range(n):\n",
    "            delta_ij = 0 if x[i] == y[j] else 1\n",
    "            Delta[i+1, j+1] = np.min([delta_ij + Delta[i,j], 1 + Delta[i+1, j], 1 + Delta[i, j+1]])\n",
    "    return Delta[m][n]\n",
    "\n",
    "# Levenshtein distance between elements\n",
    "X_train_new = np.zeros((len(X_train), len(X_train)))\n",
    "for k in range(len(X_train)):\n",
    "    x = X_train[k]\n",
    "    for l in range(len(X_train)):\n",
    "        y = X_train[l]\n",
    "        X_train_new[k, l] = levenshtein(x, y)\n",
    "        X_train_new[l, k] = X_train_new[k, l]"
   ]
  },
  {
   "cell_type": "code",
   "execution_count": 11,
   "metadata": {
    "ExecuteTime": {
     "end_time": "2021-02-18T21:18:21.135003Z",
     "start_time": "2021-02-18T21:18:21.107753Z"
    }
   },
   "outputs": [],
   "source": [
    "mglvq = clf.fit(X_train_new, y_train)"
   ]
  },
  {
   "cell_type": "code",
   "execution_count": 12,
   "metadata": {
    "ExecuteTime": {
     "end_time": "2021-02-18T21:18:21.140349Z",
     "start_time": "2021-02-18T21:18:21.136251Z"
    }
   },
   "outputs": [
    {
     "name": "stdout",
     "output_type": "stream",
     "text": [
      "MGLVQ classifier has an accuracy of 77.1429% using test data\n"
     ]
    }
   ],
   "source": [
    "X_train_new_small = X_train_new[:, mglvq._w]\n",
    "print('MGLVQ classifier has an accuracy of %g%% using test data' % (mglvq.score(X_train_new_small, y_train) * 100))"
   ]
  },
  {
   "cell_type": "code",
   "execution_count": null,
   "metadata": {},
   "outputs": [],
   "source": []
  }
 ],
 "metadata": {
  "hide_input": false,
  "kernelspec": {
   "display_name": "Python 3",
   "language": "python",
   "name": "python3"
  },
  "language_info": {
   "codemirror_mode": {
    "name": "ipython",
    "version": 3
   },
   "file_extension": ".py",
   "mimetype": "text/x-python",
   "name": "python",
   "nbconvert_exporter": "python",
   "pygments_lexer": "ipython3",
   "version": "3.7.6"
  },
  "latex_envs": {
   "LaTeX_envs_menu_present": true,
   "autoclose": false,
   "autocomplete": true,
   "bibliofile": "biblio.bib",
   "cite_by": "apalike",
   "current_citInitial": 1,
   "eqLabelWithNumbers": true,
   "eqNumInitial": 1,
   "hotkeys": {
    "equation": "Ctrl-E",
    "itemize": "Ctrl-I"
   },
   "labels_anchors": false,
   "latex_user_defs": false,
   "report_style_numbering": false,
   "user_envs_cfg": false
  },
  "nbTranslate": {
   "displayLangs": [
    "*"
   ],
   "hotkey": "alt-t",
   "langInMainMenu": true,
   "sourceLang": "en",
   "targetLang": "fr",
   "useGoogleTranslate": true
  },
  "toc": {
   "base_numbering": 1,
   "nav_menu": {},
   "number_sections": true,
   "sideBar": true,
   "skip_h1_title": false,
   "title_cell": "Table of Contents",
   "title_sidebar": "Contents",
   "toc_cell": false,
   "toc_position": {},
   "toc_section_display": true,
   "toc_window_display": false
  }
 },
 "nbformat": 4,
 "nbformat_minor": 4
}
